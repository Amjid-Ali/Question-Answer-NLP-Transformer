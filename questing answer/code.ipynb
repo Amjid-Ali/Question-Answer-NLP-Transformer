{
 "cells": [
  {
   "cell_type": "code",
   "execution_count": 1,
   "id": "1cd15fd0",
   "metadata": {},
   "outputs": [
    {
     "name": "stderr",
     "output_type": "stream",
     "text": [
      "The cache for model files in Transformers v4.22.0 has been updated. Migrating your old cache. This is a one-time only operation. You can interrupt this and resume the migration later on by calling `transformers.utils.move_cache()`.\n"
     ]
    },
    {
     "name": "stdout",
     "output_type": "stream",
     "text": [
      "Moving 0 files to the new cache system\n"
     ]
    },
    {
     "data": {
      "application/vnd.jupyter.widget-view+json": {
       "model_id": "",
       "version_major": 2,
       "version_minor": 0
      },
      "text/plain": [
       "0it [00:00, ?it/s]"
      ]
     },
     "metadata": {},
     "output_type": "display_data"
    }
   ],
   "source": [
    "import torch\n",
    "from transformers import AutoTokenizer, AutoModelForQuestionAnswering"
   ]
  },
  {
   "cell_type": "code",
   "execution_count": 5,
   "id": "8720b375",
   "metadata": {},
   "outputs": [],
   "source": [
    "# !pip install transformers"
   ]
  },
  {
   "cell_type": "markdown",
   "id": "aba5fa37",
   "metadata": {},
   "source": [
    "# model having some problem"
   ]
  },
  {
   "cell_type": "code",
   "execution_count": 2,
   "id": "380fc11b",
   "metadata": {},
   "outputs": [],
   "source": [
    "tokenizer = AutoTokenizer.from_pretrained(\"valhalla/longformer-base-4096-finetuned-squadv1\")\n",
    "model = AutoModelForQuestionAnswering.from_pretrained(\"valhalla/longformer-base-4096-finetuned-squadv1\")"
   ]
  },
  {
   "cell_type": "code",
   "execution_count": 3,
   "id": "98f2845b",
   "metadata": {},
   "outputs": [],
   "source": [
    "text = \"Huggingface has democratized NLP. Huge thanks to Huggingface for this.\"\n",
    "question = \"What has Huggingface done ?\"\n",
    "encoding = tokenizer(question, text, return_tensors=\"pt\")\n",
    "input_ids = encoding[\"input_ids\"]\n",
    "\n",
    "# default is local attention everywhere\n",
    "# the forward method will automatically set global attention on question tokens\n",
    "attention_mask = encoding[\"attention_mask\"]\n",
    "\n",
    "start_scores, end_scores = model(input_ids, attention_mask=attention_mask)\n",
    "all_tokens = tokenizer.convert_ids_to_tokens(input_ids[0].tolist())\n",
    "\n",
    "# answer_tokens = all_tokens[torch.argmax(start_scores) :torch.argmax(end_scores)+1]\n",
    "# answer = tokenizer.decode(tokenizer.convert_tokens_to_ids(answer_tokens))"
   ]
  },
  {
   "cell_type": "code",
   "execution_count": 7,
   "id": "db91c5f4",
   "metadata": {},
   "outputs": [
    {
     "data": {
      "text/plain": [
       "'start_logits'"
      ]
     },
     "execution_count": 7,
     "metadata": {},
     "output_type": "execute_result"
    }
   ],
   "source": [
    "start_scores"
   ]
  },
  {
   "cell_type": "markdown",
   "id": "6dbdf8bf",
   "metadata": {},
   "source": [
    "# working model"
   ]
  },
  {
   "cell_type": "code",
   "execution_count": 5,
   "id": "735bcfe5",
   "metadata": {},
   "outputs": [],
   "source": [
    "from transformers import AutoTokenizer, AutoModelForQuestionAnswering, pipeline\n",
    "\n",
    "ckpt = \"mrm8488/longformer-base-4096-finetuned-squadv2\"\n",
    "tokenizer = AutoTokenizer.from_pretrained(ckpt)\n",
    "model = AutoModelForQuestionAnswering.from_pretrained(ckpt)\n",
    "\n",
    "qa = pipeline(\"question-answering\", model=model, tokenizer=tokenizer)\n"
   ]
  },
  {
   "cell_type": "code",
   "execution_count": 6,
   "id": "65765085",
   "metadata": {},
   "outputs": [],
   "source": [
    "text = \"my name is abdul, he is doing reasearch in dip lab in islamia collge\"\n",
    "question = \"where abdul doing research?\"\n",
    "\n",
    "answer=qa({\"question\": question, \"context\": text})"
   ]
  },
  {
   "cell_type": "code",
   "execution_count": 9,
   "id": "2d412e0d",
   "metadata": {},
   "outputs": [
    {
     "data": {
      "text/plain": [
       "'dip lab in islamia collge'"
      ]
     },
     "execution_count": 9,
     "metadata": {},
     "output_type": "execute_result"
    }
   ],
   "source": [
    "answer[\"answer\"]\n"
   ]
  },
  {
   "cell_type": "markdown",
   "id": "be65373c",
   "metadata": {},
   "source": [
    "# torch question answer"
   ]
  },
  {
   "cell_type": "code",
   "execution_count": 2,
   "id": "f01167e0",
   "metadata": {},
   "outputs": [],
   "source": [
    "# from transformers import DistilBertTokenizer, DistilBertModel\n",
    "# import torch\n",
    "# tokenizer = DistilBertTokenizer.from_pretrained('distilbert-base-uncased-distilled-squad')\n",
    "# model = DistilBertModel.from_pretrained('distilbert-base-uncased-distilled-squad')\n"
   ]
  },
  {
   "cell_type": "code",
   "execution_count": 3,
   "id": "3f610c44",
   "metadata": {},
   "outputs": [],
   "source": [
    "\n",
    "# question, text = \"Who was Jim Henson?\", \"Jim Henson was a nice puppet\"\n",
    "\n",
    "# inputs = tokenizer(question, text, return_tensors=\"pt\")\n",
    "# with torch.no_grad():\n",
    "#     outputs = model(**inputs)\n",
    "\n",
    "# print(outputs)"
   ]
  },
  {
   "cell_type": "markdown",
   "id": "5c626980",
   "metadata": {},
   "source": [
    "# tensorflow"
   ]
  },
  {
   "cell_type": "code",
   "execution_count": 4,
   "id": "f9a14d17",
   "metadata": {},
   "outputs": [],
   "source": [
    "\n",
    "# from transformers import DistilBertTokenizer, TFDistilBertForQuestionAnswering\n",
    "# import tensorflow as tf\n",
    "\n",
    "# tokenizer = DistilBertTokenizer.from_pretrained(\"distilbert-base-uncased-distilled-squad\")\n",
    "# model = TFDistilBertForQuestionAnswering.from_pretrained(\"distilbert-base-uncased-distilled-squad\")\n",
    "\n",
    "# question, text = \"Who was Jim Henson?\", \"Jim Henson was a nice puppet\"\n",
    "\n",
    "# inputs = tokenizer(question, text, return_tensors=\"tf\")\n",
    "# outputs = model(**inputs)\n",
    "\n",
    "# answer_start_index = int(tf.math.argmax(outputs.start_logits, axis=-1)[0])\n",
    "# answer_end_index = int(tf.math.argmax(outputs.end_logits, axis=-1)[0])\n",
    "\n",
    "# predict_answer_tokens = inputs.input_ids[0, answer_start_index : answer_end_index + 1]\n",
    "# tokenizer.decode(predict_answer_tokens)"
   ]
  },
  {
   "cell_type": "code",
   "execution_count": null,
   "id": "709f644b",
   "metadata": {},
   "outputs": [],
   "source": []
  }
 ],
 "metadata": {
  "kernelspec": {
   "display_name": "Python 3 (ipykernel)",
   "language": "python",
   "name": "python3"
  },
  "language_info": {
   "codemirror_mode": {
    "name": "ipython",
    "version": 3
   },
   "file_extension": ".py",
   "mimetype": "text/x-python",
   "name": "python",
   "nbconvert_exporter": "python",
   "pygments_lexer": "ipython3",
   "version": "3.7.13"
  }
 },
 "nbformat": 4,
 "nbformat_minor": 5
}
